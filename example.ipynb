{
 "cells": [
  {
   "cell_type": "code",
   "execution_count": 10,
   "metadata": {},
   "outputs": [],
   "source": [
    "import iris\n",
    "import xarray as xr\n",
    "import ipyleaflet"
   ]
  },
  {
   "cell_type": "markdown",
   "metadata": {},
   "source": [
    "The line below was injected by the THREDDS catalog browser"
   ]
  },
  {
   "cell_type": "code",
   "execution_count": 11,
   "metadata": {
    "collapsed": false
   },
   "outputs": [
    {
     "name": "stderr",
     "output_type": "stream",
     "text": [
      "/home/stefanv/miniconda3/envs/ewc2/lib/python3.6/site-packages/iris/fileformats/_pyke_rules/compiled_krb/fc_rules_cf_fc.py:1813: FutureWarning: Conversion of the second argument of issubdtype from `str` to `str` is deprecated. In future, it will be treated as `np.str_ == np.dtype(str).type`.\n",
      "  if np.issubdtype(cf_var.dtype, np.str):\n",
      "/home/stefanv/miniconda3/envs/ewc2/lib/python3.6/site-packages/iris/fileformats/_pyke_rules/compiled_krb/fc_rules_cf_fc.py:1813: FutureWarning: Conversion of the second argument of issubdtype from `str` to `str` is deprecated. In future, it will be treated as `np.str_ == np.dtype(str).type`.\n",
      "  if np.issubdtype(cf_var.dtype, np.str):\n"
     ]
    }
   ],
   "source": [
    "cube = iris.load_cube(\"http://localhost:8080/thredds/dodsC/ewc/2017-11-21/work01/output/netcdf/satDegUppSurface_dailyTot_output.nc\")"
   ]
  },
  {
   "cell_type": "code",
   "execution_count": 12,
   "metadata": {},
   "outputs": [
    {
     "name": "stdout",
     "output_type": "stream",
     "text": [
      "near_surface_soil_saturation_degree / (1) (time: 9; latitude: 2160; longitude: 4320)\n",
      "     Dimension coordinates:\n",
      "          time                                 x            -                -\n",
      "          latitude                             -            x                -\n",
      "          longitude                            -            -                x\n",
      "     Attributes:\n",
      "          DODS_EXTRA.Unlimited_Dimension: time\n",
      "          description: test version (by Edwin H. Sutanudjaja)\n",
      "          institution: Department of Physical Geography, Utrecht University\n",
      "          invalid_standard_name: near_surface_soil_saturation_degree\n",
      "          title: PCR-GLOBWB output\n"
     ]
    }
   ],
   "source": [
    "print(cube)"
   ]
  },
  {
   "cell_type": "markdown",
   "metadata": {},
   "source": [
    "The line below was injected by the THREDDS catalog browser"
   ]
  },
  {
   "cell_type": "code",
   "execution_count": 13,
   "metadata": {
    "collapsed": false
   },
   "outputs": [],
   "source": [
    "ds = xr.open_dataset(\"http://localhost:8080/thredds/dodsC/ewc/2017-11-21/work01/output/netcdf/discharge_dailyTot_output.nc\")"
   ]
  },
  {
   "cell_type": "code",
   "execution_count": 14,
   "metadata": {},
   "outputs": [
    {
     "data": {
      "text/plain": [
       "<xarray.Dataset>\n",
       "Dimensions:    (lat: 2160, lon: 4320, time: 9)\n",
       "Coordinates:\n",
       "  * time       (time) datetime64[ns] 2017-11-21 2017-11-22 2017-11-23 ...\n",
       "  * lat        (lat) float32 89.958336 89.875 89.791664 89.708336 89.625 ...\n",
       "  * lon        (lon) float32 -179.95833 -179.875 -179.79167 -179.70833 ...\n",
       "Data variables:\n",
       "    discharge  (time, lat, lon) float32 ...\n",
       "Attributes:\n",
       "    description:                     test version (by Edwin H. Sutanudjaja)\n",
       "    institution:                     Department of Physical Geography, Utrech...\n",
       "    title:                           PCR-GLOBWB output\n",
       "    DODS_EXTRA.Unlimited_Dimension:  time"
      ]
     },
     "execution_count": 14,
     "metadata": {},
     "output_type": "execute_result"
    }
   ],
   "source": [
    "ds"
   ]
  },
  {
   "cell_type": "markdown",
   "metadata": {},
   "source": [
    "The line below was injected by the THREDDS catalog browser, but the layers name was manually set"
   ]
  },
  {
   "cell_type": "code",
   "execution_count": 15,
   "metadata": {
    "collapsed": false
   },
   "outputs": [],
   "source": [
    "wms = ipyleaflet.WMSLayer(url=\"http://localhost:8080/thredds/wms/ewc/2017-11-21/work01/output/netcdf/discharge_dailyTot_output.nc\", layers='discharge')"
   ]
  },
  {
   "cell_type": "code",
   "execution_count": 16,
   "metadata": {},
   "outputs": [
    {
     "data": {
      "application/vnd.jupyter.widget-view+json": {
       "model_id": "178b69021cf341daa3af61c71b4a5960",
       "version_major": 2,
       "version_minor": 0
      },
      "text/plain": [
       "Map(basemap={'url': 'https://{s}.tile.openstreetmap.org/{z}/{x}/{y}.png', 'max_zoom': 19, 'attribution': 'Map …"
      ]
     },
     "metadata": {},
     "output_type": "display_data"
    }
   ],
   "source": [
    "m = ipyleaflet.Map(center=(42.5531, -48.6914), zoom=3)\n",
    "m.add_layer(wms)\n",
    "m"
   ]
  },
  {
   "cell_type": "code",
   "execution_count": null,
   "metadata": {},
   "outputs": [],
   "source": []
  }
 ],
 "metadata": {
  "kernelspec": {
   "display_name": "Python 3",
   "language": "python",
   "name": "python3"
  },
  "language_info": {
   "codemirror_mode": {
    "name": "ipython",
    "version": 3
   },
   "file_extension": ".py",
   "mimetype": "text/x-python",
   "name": "python",
   "nbconvert_exporter": "python",
   "pygments_lexer": "ipython3",
   "version": "3.6.4"
  }
 },
 "nbformat": 4,
 "nbformat_minor": 2
}
